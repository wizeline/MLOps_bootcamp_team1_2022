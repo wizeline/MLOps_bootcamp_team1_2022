{
 "cells": [
  {
   "cell_type": "code",
   "execution_count": 5,
   "metadata": {},
   "outputs": [],
   "source": [
    "import numpy as np\n",
    "import matplotlib.pyplot as plt\n",
    "import pandas as pd\n",
    "import pandas_datareader as web\n",
    "import datetime as dt\n",
    "\n",
    "\n",
    "from sklearn.preprocessing import MinMaxScaler\n",
    "from tensorflow.keras.models import Sequential\n",
    "from tensorflow.keras.layers import Dense, Dropout, LSTM"
   ]
  },
  {
   "cell_type": "markdown",
   "metadata": {},
   "source": [
    "# Data Loading"
   ]
  },
  {
   "cell_type": "code",
   "execution_count": 6,
   "metadata": {},
   "outputs": [],
   "source": [
    "company='GOOGL'\n",
    "start =dt.datetime(2012,1,1)\n",
    "end =dt.datetime(2021,12,31)\n",
    "\n",
    "data = web.DataReader(company, 'yahoo' , start, end)"
   ]
  },
  {
   "cell_type": "markdown",
   "metadata": {},
   "source": [
    "# EDA"
   ]
  },
  {
   "cell_type": "code",
   "execution_count": 33,
   "metadata": {},
   "outputs": [
    {
     "name": "stdout",
     "output_type": "stream",
     "text": [
      "<class 'pandas.core.frame.DataFrame'>\n",
      "DatetimeIndex: 2517 entries, 2012-01-03 to 2021-12-31\n",
      "Data columns (total 6 columns):\n",
      " #   Column     Non-Null Count  Dtype  \n",
      "---  ------     --------------  -----  \n",
      " 0   High       2517 non-null   float64\n",
      " 1   Low        2517 non-null   float64\n",
      " 2   Open       2517 non-null   float64\n",
      " 3   Close      2517 non-null   float64\n",
      " 4   Volume     2517 non-null   float64\n",
      " 5   Adj Close  2517 non-null   float64\n",
      "dtypes: float64(6)\n",
      "memory usage: 137.6 KB\n"
     ]
    }
   ],
   "source": [
    "data.info()"
   ]
  },
  {
   "cell_type": "code",
   "execution_count": 34,
   "metadata": {},
   "outputs": [
    {
     "data": {
      "text/html": [
       "<div>\n",
       "<style scoped>\n",
       "    .dataframe tbody tr th:only-of-type {\n",
       "        vertical-align: middle;\n",
       "    }\n",
       "\n",
       "    .dataframe tbody tr th {\n",
       "        vertical-align: top;\n",
       "    }\n",
       "\n",
       "    .dataframe thead th {\n",
       "        text-align: right;\n",
       "    }\n",
       "</style>\n",
       "<table border=\"1\" class=\"dataframe\">\n",
       "  <thead>\n",
       "    <tr style=\"text-align: right;\">\n",
       "      <th></th>\n",
       "      <th>count</th>\n",
       "      <th>mean</th>\n",
       "      <th>std</th>\n",
       "      <th>min</th>\n",
       "      <th>25%</th>\n",
       "      <th>50%</th>\n",
       "      <th>75%</th>\n",
       "      <th>max</th>\n",
       "    </tr>\n",
       "  </thead>\n",
       "  <tbody>\n",
       "    <tr>\n",
       "      <th>High</th>\n",
       "      <td>2517.0</td>\n",
       "      <td>5.013303e+01</td>\n",
       "      <td>3.126432e+01</td>\n",
       "      <td>1.412713e+01</td>\n",
       "      <td>2.763950e+01</td>\n",
       "      <td>4.132900e+01</td>\n",
       "      <td>6.052200e+01</td>\n",
       "      <td>1.509665e+02</td>\n",
       "    </tr>\n",
       "    <tr>\n",
       "      <th>Low</th>\n",
       "      <td>2517.0</td>\n",
       "      <td>4.921676e+01</td>\n",
       "      <td>3.068685e+01</td>\n",
       "      <td>1.392693e+01</td>\n",
       "      <td>2.722450e+01</td>\n",
       "      <td>4.073050e+01</td>\n",
       "      <td>5.956200e+01</td>\n",
       "      <td>1.488990e+02</td>\n",
       "    </tr>\n",
       "    <tr>\n",
       "      <th>Open</th>\n",
       "      <td>2517.0</td>\n",
       "      <td>4.968180e+01</td>\n",
       "      <td>3.097492e+01</td>\n",
       "      <td>1.402252e+01</td>\n",
       "      <td>2.741400e+01</td>\n",
       "      <td>4.114400e+01</td>\n",
       "      <td>6.007000e+01</td>\n",
       "      <td>1.499755e+02</td>\n",
       "    </tr>\n",
       "    <tr>\n",
       "      <th>Close</th>\n",
       "      <td>2517.0</td>\n",
       "      <td>4.969554e+01</td>\n",
       "      <td>3.099609e+01</td>\n",
       "      <td>1.399024e+01</td>\n",
       "      <td>2.743200e+01</td>\n",
       "      <td>4.107450e+01</td>\n",
       "      <td>6.026350e+01</td>\n",
       "      <td>1.498385e+02</td>\n",
       "    </tr>\n",
       "    <tr>\n",
       "      <th>Volume</th>\n",
       "      <td>2517.0</td>\n",
       "      <td>4.972128e+07</td>\n",
       "      <td>3.675455e+07</td>\n",
       "      <td>9.312000e+06</td>\n",
       "      <td>2.773400e+07</td>\n",
       "      <td>3.660400e+07</td>\n",
       "      <td>6.169000e+07</td>\n",
       "      <td>4.971983e+08</td>\n",
       "    </tr>\n",
       "    <tr>\n",
       "      <th>Adj Close</th>\n",
       "      <td>2517.0</td>\n",
       "      <td>4.969554e+01</td>\n",
       "      <td>3.099609e+01</td>\n",
       "      <td>1.399024e+01</td>\n",
       "      <td>2.743200e+01</td>\n",
       "      <td>4.107450e+01</td>\n",
       "      <td>6.026350e+01</td>\n",
       "      <td>1.498385e+02</td>\n",
       "    </tr>\n",
       "  </tbody>\n",
       "</table>\n",
       "</div>"
      ],
      "text/plain": [
       "            count          mean           std           min           25%  \\\n",
       "High       2517.0  5.013303e+01  3.126432e+01  1.412713e+01  2.763950e+01   \n",
       "Low        2517.0  4.921676e+01  3.068685e+01  1.392693e+01  2.722450e+01   \n",
       "Open       2517.0  4.968180e+01  3.097492e+01  1.402252e+01  2.741400e+01   \n",
       "Close      2517.0  4.969554e+01  3.099609e+01  1.399024e+01  2.743200e+01   \n",
       "Volume     2517.0  4.972128e+07  3.675455e+07  9.312000e+06  2.773400e+07   \n",
       "Adj Close  2517.0  4.969554e+01  3.099609e+01  1.399024e+01  2.743200e+01   \n",
       "\n",
       "                    50%           75%           max  \n",
       "High       4.132900e+01  6.052200e+01  1.509665e+02  \n",
       "Low        4.073050e+01  5.956200e+01  1.488990e+02  \n",
       "Open       4.114400e+01  6.007000e+01  1.499755e+02  \n",
       "Close      4.107450e+01  6.026350e+01  1.498385e+02  \n",
       "Volume     3.660400e+07  6.169000e+07  4.971983e+08  \n",
       "Adj Close  4.107450e+01  6.026350e+01  1.498385e+02  "
      ]
     },
     "execution_count": 34,
     "metadata": {},
     "output_type": "execute_result"
    }
   ],
   "source": [
    "data.describe().T"
   ]
  },
  {
   "cell_type": "code",
   "execution_count": 35,
   "metadata": {},
   "outputs": [
    {
     "data": {
      "text/html": [
       "<div>\n",
       "<style scoped>\n",
       "    .dataframe tbody tr th:only-of-type {\n",
       "        vertical-align: middle;\n",
       "    }\n",
       "\n",
       "    .dataframe tbody tr th {\n",
       "        vertical-align: top;\n",
       "    }\n",
       "\n",
       "    .dataframe thead th {\n",
       "        text-align: right;\n",
       "    }\n",
       "</style>\n",
       "<table border=\"1\" class=\"dataframe\">\n",
       "  <thead>\n",
       "    <tr style=\"text-align: right;\">\n",
       "      <th></th>\n",
       "      <th>High</th>\n",
       "      <th>Low</th>\n",
       "      <th>Open</th>\n",
       "      <th>Close</th>\n",
       "      <th>Volume</th>\n",
       "      <th>Adj Close</th>\n",
       "    </tr>\n",
       "    <tr>\n",
       "      <th>Date</th>\n",
       "      <th></th>\n",
       "      <th></th>\n",
       "      <th></th>\n",
       "      <th></th>\n",
       "      <th></th>\n",
       "      <th></th>\n",
       "    </tr>\n",
       "  </thead>\n",
       "  <tbody>\n",
       "    <tr>\n",
       "      <th>2012-01-03</th>\n",
       "      <td>16.720470</td>\n",
       "      <td>16.325577</td>\n",
       "      <td>16.339840</td>\n",
       "      <td>16.651901</td>\n",
       "      <td>146912940.0</td>\n",
       "      <td>16.651901</td>\n",
       "    </tr>\n",
       "    <tr>\n",
       "      <th>2012-01-04</th>\n",
       "      <td>16.773024</td>\n",
       "      <td>16.532032</td>\n",
       "      <td>16.642391</td>\n",
       "      <td>16.723724</td>\n",
       "      <td>114445440.0</td>\n",
       "      <td>16.723724</td>\n",
       "    </tr>\n",
       "    <tr>\n",
       "      <th>2012-01-05</th>\n",
       "      <td>16.615866</td>\n",
       "      <td>16.422173</td>\n",
       "      <td>16.569820</td>\n",
       "      <td>16.491741</td>\n",
       "      <td>131184684.0</td>\n",
       "      <td>16.491741</td>\n",
       "    </tr>\n",
       "    <tr>\n",
       "      <th>2012-01-06</th>\n",
       "      <td>16.516518</td>\n",
       "      <td>16.261011</td>\n",
       "      <td>16.495245</td>\n",
       "      <td>16.266768</td>\n",
       "      <td>107608284.0</td>\n",
       "      <td>16.266768</td>\n",
       "    </tr>\n",
       "    <tr>\n",
       "      <th>2012-01-09</th>\n",
       "      <td>16.191191</td>\n",
       "      <td>15.546296</td>\n",
       "      <td>16.178679</td>\n",
       "      <td>15.577077</td>\n",
       "      <td>232671096.0</td>\n",
       "      <td>15.577077</td>\n",
       "    </tr>\n",
       "  </tbody>\n",
       "</table>\n",
       "</div>"
      ],
      "text/plain": [
       "                 High        Low       Open      Close       Volume  Adj Close\n",
       "Date                                                                          \n",
       "2012-01-03  16.720470  16.325577  16.339840  16.651901  146912940.0  16.651901\n",
       "2012-01-04  16.773024  16.532032  16.642391  16.723724  114445440.0  16.723724\n",
       "2012-01-05  16.615866  16.422173  16.569820  16.491741  131184684.0  16.491741\n",
       "2012-01-06  16.516518  16.261011  16.495245  16.266768  107608284.0  16.266768\n",
       "2012-01-09  16.191191  15.546296  16.178679  15.577077  232671096.0  15.577077"
      ]
     },
     "execution_count": 35,
     "metadata": {},
     "output_type": "execute_result"
    }
   ],
   "source": [
    "data.head()"
   ]
  },
  {
   "cell_type": "code",
   "execution_count": 41,
   "metadata": {},
   "outputs": [
    {
     "data": {
      "image/png": "[encoded data removed]",
      "text/plain": [
       "<Figure size 640x480 with 1 Axes>"
      ]
     },
     "metadata": {},
     "output_type": "display_data"
    }
   ],
   "source": [
    "plt.plot(data.index, data['Close'], color='green')\n",
    "plt.title(f\"Closing Prices of {company} from {start.date()} to {end.date()}\")\n",
    "plt.xlabel('Date')\n",
    "plt.ylabel('Price')\n",
    "plt.show()"
   ]
  },
  {
   "cell_type": "markdown",
   "metadata": {},
   "source": [
    "# Data Preparation"
   ]
  },
  {
   "cell_type": "code",
   "execution_count": 26,
   "metadata": {},
   "outputs": [],
   "source": [
    "scaler = MinMaxScaler(feature_range=(0,1))\n",
    "scaled_data = scaler.fit_transform(data['Close'].values.reshape(-1,1))\n",
    "prediction_days=90\n",
    "x_train = []\n",
    "y_train = []\n",
    "\n",
    "for x in range (prediction_days, len(scaled_data)):\n",
    "    x_train.append(scaled_data[x-prediction_days:x ,0])\n",
    "    y_train.append(scaled_data[x,0])\n",
    "\n",
    "x_train, y_train = np.array(x_train), np.array(y_train)\n",
    "x_train = np.reshape(x_train, (x_train.shape[0], x_train.shape[1],1))"
   ]
  },
  {
   "cell_type": "markdown",
   "metadata": {},
   "source": [
    "# Model Building"
   ]
  },
  {
   "cell_type": "code",
   "execution_count": 27,
   "metadata": {},
   "outputs": [
    {
     "name": "stdout",
     "output_type": "stream",
     "text": [
      "Epoch 1/25\n"
     ]
    },
    {
     "name": "stderr",
     "output_type": "stream",
     "text": [
      "2022-11-13 10:03:02.193264: I tensorflow/core/grappler/optimizers/custom_graph_optimizer_registry.cc:114] Plugin optimizer for device_type GPU is enabled.\n",
      "2022-11-13 10:03:02.576292: I tensorflow/core/grappler/optimizers/custom_graph_optimizer_registry.cc:114] Plugin optimizer for device_type GPU is enabled.\n",
      "2022-11-13 10:03:02.752082: I tensorflow/core/grappler/optimizers/custom_graph_optimizer_registry.cc:114] Plugin optimizer for device_type GPU is enabled.\n",
      "2022-11-13 10:03:02.904746: I tensorflow/core/grappler/optimizers/custom_graph_optimizer_registry.cc:114] Plugin optimizer for device_type GPU is enabled.\n",
      "2022-11-13 10:03:03.052722: I tensorflow/core/grappler/optimizers/custom_graph_optimizer_registry.cc:114] Plugin optimizer for device_type GPU is enabled.\n",
      "2022-11-13 10:03:03.229029: I tensorflow/core/grappler/optimizers/custom_graph_optimizer_registry.cc:114] Plugin optimizer for device_type GPU is enabled.\n",
      "2022-11-13 10:03:03.608778: I tensorflow/core/grappler/optimizers/custom_graph_optimizer_registry.cc:114] Plugin optimizer for device_type GPU is enabled.\n",
      "2022-11-13 10:03:03.881953: I tensorflow/core/grappler/optimizers/custom_graph_optimizer_registry.cc:114] Plugin optimizer for device_type GPU is enabled.\n",
      "2022-11-13 10:03:04.154424: I tensorflow/core/grappler/optimizers/custom_graph_optimizer_registry.cc:114] Plugin optimizer for device_type GPU is enabled.\n"
     ]
    },
    {
     "name": "stdout",
     "output_type": "stream",
     "text": [
      "76/76 [==============================] - 12s 101ms/step - loss: 0.0088\n",
      "Epoch 2/25\n",
      "76/76 [==============================] - 6s 83ms/step - loss: 6.7461e-04\n",
      "Epoch 3/25\n",
      "76/76 [==============================] - 6s 82ms/step - loss: 5.9294e-04\n",
      "Epoch 4/25\n",
      "76/76 [==============================] - 6s 82ms/step - loss: 7.0311e-04\n",
      "Epoch 5/25\n",
      "76/76 [==============================] - 6s 84ms/step - loss: 4.6186e-04\n",
      "Epoch 6/25\n",
      "76/76 [==============================] - 6s 82ms/step - loss: 5.2604e-04\n",
      "Epoch 7/25\n",
      "76/76 [==============================] - 6s 82ms/step - loss: 5.2888e-04\n",
      "Epoch 8/25\n",
      "76/76 [==============================] - 6s 82ms/step - loss: 4.3555e-04\n",
      "Epoch 9/25\n",
      "76/76 [==============================] - 6s 82ms/step - loss: 5.2467e-04\n",
      "Epoch 10/25\n",
      "76/76 [==============================] - 6s 82ms/step - loss: 5.3411e-04\n",
      "Epoch 11/25\n",
      "76/76 [==============================] - 6s 82ms/step - loss: 5.0984e-04\n",
      "Epoch 12/25\n",
      "76/76 [==============================] - 6s 85ms/step - loss: 3.4517e-04\n",
      "Epoch 13/25\n",
      "76/76 [==============================] - 7s 87ms/step - loss: 3.4805e-04\n",
      "Epoch 14/25\n",
      "76/76 [==============================] - 6s 84ms/step - loss: 3.5514e-04\n",
      "Epoch 15/25\n",
      "76/76 [==============================] - 7s 87ms/step - loss: 4.4492e-04\n",
      "Epoch 16/25\n",
      "76/76 [==============================] - 6s 84ms/step - loss: 3.5942e-04\n",
      "Epoch 17/25\n",
      "76/76 [==============================] - 6s 82ms/step - loss: 3.7015e-04\n",
      "Epoch 18/25\n",
      "76/76 [==============================] - 6s 82ms/step - loss: 3.4805e-04\n",
      "Epoch 19/25\n",
      "76/76 [==============================] - 6s 82ms/step - loss: 2.7916e-04\n",
      "Epoch 20/25\n",
      "76/76 [==============================] - 6s 82ms/step - loss: 3.0254e-04\n",
      "Epoch 21/25\n",
      "76/76 [==============================] - 6s 82ms/step - loss: 3.1719e-04\n",
      "Epoch 22/25\n",
      "76/76 [==============================] - 6s 82ms/step - loss: 2.8989e-04\n",
      "Epoch 23/25\n",
      "76/76 [==============================] - 6s 82ms/step - loss: 2.6676e-04\n",
      "Epoch 24/25\n",
      "76/76 [==============================] - 6s 82ms/step - loss: 2.2877e-04\n",
      "Epoch 25/25\n",
      "76/76 [==============================] - 6s 83ms/step - loss: 2.4150e-04\n"
     ]
    },
    {
     "data": {
      "text/plain": [
       "<keras.callbacks.History at 0x303055e50>"
      ]
     },
     "execution_count": 27,
     "metadata": {},
     "output_type": "execute_result"
    }
   ],
   "source": [
    "model = Sequential()\n",
    "\n",
    "model.add(LSTM(units=50, return_sequences=True, input_shape=(x_train.shape[1], 1)))\n",
    "model.add(Dropout(0.2))\n",
    "model.add(LSTM(units=50, return_sequences=True))\n",
    "model.add(Dropout(0.2))\n",
    "model.add(LSTM(units=50, return_sequences=True))\n",
    "model.add(Dropout(0.2))\n",
    "model.add(LSTM(units=50))\n",
    "model.add(Dropout(0.2))\n",
    "model.add(Dense(units=1))\n",
    "\n",
    "model.compile (optimizer = 'adam', loss='mean_squared_error')\n",
    "model.fit (x_train, y_train, epochs=25, batch_size=32)"
   ]
  },
  {
   "cell_type": "markdown",
   "metadata": {},
   "source": [
    "# Adquiring and Loading Test Data"
   ]
  },
  {
   "cell_type": "code",
   "execution_count": 28,
   "metadata": {},
   "outputs": [],
   "source": [
    "test_start = dt.datetime(2022,1,1)\n",
    "test_end =dt.datetime.now()\n",
    "\n",
    "test_data = web.DataReader(company, 'yahoo', test_start, test_end)\n",
    "actual_prices = test_data['Close'].values\n",
    "\n",
    "total_dataset = pd.concat((data['Close'], test_data['Close']), axis=0)\n",
    "\n",
    "model_imputs = total_dataset[len(total_dataset) - len(test_data) - prediction_days:].values\n",
    "model_imputs = model_imputs.reshape(-1, 1)\n",
    "model_imputs = scaler.transform(model_imputs)"
   ]
  },
  {
   "cell_type": "markdown",
   "metadata": {},
   "source": [
    "# Predictions on test data"
   ]
  },
  {
   "cell_type": "code",
   "execution_count": 36,
   "metadata": {},
   "outputs": [
    {
     "name": "stdout",
     "output_type": "stream",
     "text": [
      "7/7 [==============================] - 0s 50ms/step\n"
     ]
    },
    {
     "data": {
      "image/png": "[encoded data removed]",
      "text/plain": [
       "<Figure size 640x480 with 1 Axes>"
      ]
     },
     "metadata": {},
     "output_type": "display_data"
    }
   ],
   "source": [
    "x_test =[]\n",
    "for x in range(prediction_days, len(model_imputs)):\n",
    "    x_test.append(model_imputs[x-prediction_days:x, 0])\n",
    "\n",
    "x_test = np.array(x_test)\n",
    "x_test = np.reshape(x_test,(x_test.shape[0], x_test.shape[1], 1))\n",
    "\n",
    "predicted_prices = model.predict(x_test)\n",
    "predicted_prices = scaler.inverse_transform(predicted_prices)\n",
    "\n",
    "plt.plot(actual_prices, color=\"blue\", label=f\"Actual {company} Price\")\n",
    "plt.plot(predicted_prices, color=\"red\", label=f\"Predicted {company} Price\")\n",
    "plt.title(f\"{company} Share Price\")\n",
    "plt.xlabel(\"Time\")\n",
    "plt.ylabel(f\"{company} Share Price\")\n",
    "plt.grid(True)\n",
    "plt.legend()\n",
    "plt.show ()"
   ]
  },
  {
   "cell_type": "markdown",
   "metadata": {},
   "source": [
    "# Prediction of the next day"
   ]
  },
  {
   "cell_type": "code",
   "execution_count": 32,
   "metadata": {},
   "outputs": [
    {
     "name": "stderr",
     "output_type": "stream",
     "text": [
      "2022-11-13 10:21:34.343782: I tensorflow/core/grappler/optimizers/custom_graph_optimizer_registry.cc:114] Plugin optimizer for device_type GPU is enabled.\n",
      "2022-11-13 10:21:34.492369: I tensorflow/core/grappler/optimizers/custom_graph_optimizer_registry.cc:114] Plugin optimizer for device_type GPU is enabled.\n",
      "2022-11-13 10:21:35.453211: I tensorflow/core/grappler/optimizers/custom_graph_optimizer_registry.cc:114] Plugin optimizer for device_type GPU is enabled.\n",
      "2022-11-13 10:21:35.599051: I tensorflow/core/grappler/optimizers/custom_graph_optimizer_registry.cc:114] Plugin optimizer for device_type GPU is enabled.\n",
      "2022-11-13 10:21:35.731727: I tensorflow/core/grappler/optimizers/custom_graph_optimizer_registry.cc:114] Plugin optimizer for device_type GPU is enabled.\n"
     ]
    },
    {
     "name": "stdout",
     "output_type": "stream",
     "text": [
      "1/1 [==============================] - 2s 2s/step\n",
      "Prediction [[91.40364]]\n"
     ]
    }
   ],
   "source": [
    "real_data = [model_imputs[len(model_imputs)+1 - prediction_days:len(model_imputs+1),0]]\n",
    "real_data = np.array(real_data)\n",
    "real_data = np.reshape(real_data, (real_data.shape[0], real_data.shape[1], 1))\n",
    "prediction = model.predict(real_data)\n",
    "prediction = scaler.inverse_transform(prediction)\n",
    "print(f\"Prediction {prediction}\")"
   ]
  }
 ],
 "metadata": {
  "kernelspec": {
   "display_name": "Python 3.9.6 64-bit",
   "language": "python",
   "name": "python3"
  },
  "language_info": {
   "codemirror_mode": {
    "name": "ipython",
    "version": 3
   },
   "file_extension": ".py",
   "mimetype": "text/x-python",
   "name": "python",
   "nbconvert_exporter": "python",
   "pygments_lexer": "ipython3",
   "version": "3.9.6"
  },
  "orig_nbformat": 4,
  "vscode": {
   "interpreter": {
    "hash": "31f2aee4e71d21fbe5cf8b01ff0e069b9275f58929596ceb00d14d90e3e16cd6"
   }
  }
 },
 "nbformat": 4,
 "nbformat_minor": 2
}
